{
 "cells": [
  {
   "cell_type": "markdown",
   "metadata": {},
   "source": [
    "# Examples of usage"
   ]
  },
  {
   "cell_type": "code",
   "execution_count": 1,
   "metadata": {
    "collapsed": false
   },
   "outputs": [
    {
     "name": "stderr",
     "output_type": "stream",
     "text": [
      "Using gpu device 0: GeForce GTX 970M (CNMeM is disabled, cuDNN not available)\n"
     ]
    }
   ],
   "source": [
    "import rna\n",
    "from BasePredictor import BasePredictor\n",
    "from NaivePredictor import NaivePredictor\n",
    "from GeneticPredictor import GeneticPredictor\n",
    "from MFTPredictor import MFTPredictor\n",
    "\n",
    "%matplotlib inline"
   ]
  },
  {
   "cell_type": "markdown",
   "metadata": {},
   "source": [
    "### Data\n",
    "Examples are loaded from a file in FASTA-like format (see secondary.fa as an example). If you don't want to load RNA sequences with provided method, you can insert your data directly to predictor's **train** method. Such data should be a numpy array, and its dimensions should be $(n \\times 2)$, wherein the first column contains RNA sequences, and the second column contains bracket notations that describe the secondary structure.\n",
    "\n",
    "### Naïve Predictor\n",
    "This predictor is a simple MLP. It looks for the most similar RNA sequence in training data and applies the same structure to predicted sequence. The performance of such a predictor is not very good, but it can be quite accurate when there exists a homologous RNA sequence in training examples. One can use Genetic Predictor afterwards, to improve the result."
   ]
  },
  {
   "cell_type": "code",
   "execution_count": 4,
   "metadata": {
    "collapsed": false
   },
   "outputs": [
    {
     "name": "stdout",
     "output_type": "stream",
     "text": [
      "Shape of the data:\n",
      "(939, 2)\n",
      "\n",
      "A few of loaded examples:\n",
      "[['GGCGUAAGGAUUACCUAUGCC' '(((((..((....)).)))))']\n",
      " ['GGACUAGCGGAGGCUAGUCC' '(((..(((....)))..)))']\n",
      " ['GCGCUGACAAAGCGC' '(((((.....)))))']\n",
      " ['GGCCGAUGGUAGUGUGGGGUCUCCCCAUGCGAGAGUAGGCC'\n",
      "  '((((.......(((((((.....))))))).......))))']\n",
      " ['GGGAGCUCAACUCUCCCCCCCUUUUCCGAGGGUCAUCGGAACCA'\n",
      "  '(((((.......))))).......(((((......)))))....']\n",
      " ['GGGUGACUCCAGAGGUCGAGAGACCGGAGAUAUCACCC'\n",
      "  '((((((((((...((((....))))))))...))))))']\n",
      " ['GGUGUGAACACC' '((((....))))']\n",
      " ['GACAGGGGAAACUUUGUC' '(((((((....)))))))']\n",
      " ['GCCAGAUUGAGCCUGGGAGCUCUCUGGCC' '((((((..((((......)))))))))).']\n",
      " ['GGCCAGAUUGAGCCUGGGAGCUCUCUGGCC' '(((((((..((((......)))))))))))']]\n"
     ]
    }
   ],
   "source": [
    "p = NaivePredictor(22, substrings=False, max_examples=100, library='lasagne', data_model='matrix')\n",
    "X = p.load_data(\"secondary.fa\", capitalize=True, purify=True, repair=True)\n",
    "print(\"Shape of the data:\")\n",
    "print(X.shape)\n",
    "\n",
    "print(\"\\nA few of loaded examples:\")\n",
    "print(X[:10])"
   ]
  },
  {
   "cell_type": "markdown",
   "metadata": {},
   "source": [
    "### Molecule class\n",
    "You can store RNA sequences as an instance of Molecule class. It provides tools for the structure visualization."
   ]
  },
  {
   "cell_type": "code",
   "execution_count": 8,
   "metadata": {
    "collapsed": false
   },
   "outputs": [
    {
     "data": {
      "image/png": "[encoded data removed]",
      "text/plain": [
       "<matplotlib.figure.Figure at 0x249c3e7ac18>"
      ]
     },
     "metadata": {},
     "output_type": "display_data"
    },
    {
     "data": {
      "image/png": "[encoded data removed]",
      "text/plain": [
       "<matplotlib.figure.Figure at 0x249c1372208>"
      ]
     },
     "metadata": {},
     "output_type": "display_data"
    }
   ],
   "source": [
    "m = rna.Molecule(X[1, 0], X[1, 1])\n",
    "rna.pair_matrix(m, show=True)\n",
    "rna.complementarity_matrix(m, show=True)\n",
    "m.show()"
   ]
  },
  {
   "cell_type": "markdown",
   "metadata": {},
   "source": [
    "![RNA](rna.png)"
   ]
  },
  {
   "cell_type": "code",
   "execution_count": 12,
   "metadata": {
    "collapsed": false
   },
   "outputs": [
    {
     "name": "stdout",
     "output_type": "stream",
     "text": [
      "We will be trying to predict the secondary structure of the following sequence: GGCCUGAGGAGACUCAGAAGCC.\n",
      "\n",
      "0.994215 0.363563\n",
      "GGCCUGAGGAGACUCAGAAGCC\n",
      "(((((((......))))..)))\n",
      "\n",
      "This is the correct structure. Next tests check if our predictor can cope with slightly different sequences (reverse sequence or changed basepairs).\n",
      "\n",
      "0.929067 0.999614\n",
      "CCGAAGACUCAGAGGAGUCCGG\n",
      "(((..((((......)))))))\n",
      "0.554652 0.453151\n",
      "CCCCUGAGGAGACUCAGAAGGG\n",
      "(((((((......))))..)))\n",
      "0.868492 0.443768\n",
      "AUCCUGAGGAGACUCAGAAGAU\n",
      "(((((((......))))..)))\n",
      "0.694795 0.792209\n",
      "AUCGUGAUGAGACUCAAAAGAU\n",
      "(((((((((....)))))))))\n"
     ]
    }
   ],
   "source": [
    "p.train()\n",
    "print(\"We will be trying to predict the secondary structure of the following sequence: GGCCUGAGGAGACUCAGAAGCC.\\n\")\n",
    "print(p.predict(\"GGCCUGAGGAGACUCAGAAGCC\"))\n",
    "print(\"\\nThis is the correct structure. Next tests check if our predictor can cope with slightly different sequences (reverse sequence or changed basepairs).\\n\")\n",
    "print(p.predict(\"GGCCUGAGGAGACUCAGAAGCC\"[::-1]))\n",
    "print(p.predict(\"CCCCUGAGGAGACUCAGAAGGG\"))\n",
    "print(p.predict(\"AUCCUGAGGAGACUCAGAAGAU\"))\n",
    "print(p.predict(\"AUCGUGAUGAGACUCAAAAGAU\"))"
   ]
  },
  {
   "cell_type": "markdown",
   "metadata": {},
   "source": [
    "### Genetic Predictor\n",
    "As we see, sometimes finding the most similar structure is not enough. We should find a way to improve our results, so let us try a different approach to the problem. A simple genetic algorithm can repair sequences with incorrect basepairs and sharp loops. Then it makes random connections and evaluates the new structure.\n",
    "\n",
    "Let's look at the last prediction of our Naive Predictor. Obviously, it is not the correct structure. We can try to improve the result with a Genetic Predictor."
   ]
  },
  {
   "cell_type": "code",
   "execution_count": 23,
   "metadata": {
    "collapsed": false
   },
   "outputs": [
    {
     "data": {
      "text/plain": [
       "[\n",
       " AUCGUGAUGAGACUCAAAAGAU\n",
       " (((.(((......)))...))), \n",
       " AUCGUGAUGAGACUCAAAAGAU\n",
       " (((.(((......))..).))), \n",
       " AUCGUGAUGAGACUCAAAAGAU\n",
       " (((.(..((.....))..)))), \n",
       " AUCGUGAUGAGACUCAAAAGAU\n",
       " (((.(((......)).)..))), \n",
       " AUCGUGAUGAGACUCAAAAGAU\n",
       " (((.(..((.....)).).)))]"
      ]
     },
     "execution_count": 23,
     "metadata": {},
     "output_type": "execute_result"
    }
   ],
   "source": [
    "p = GeneticPredictor(num_epoch=20)\n",
    "p.predict(rna.Molecule(\"AUCGUGAUGAGACUCAAAAGAU\", \"(((((((((....)))))))))\"))"
   ]
  },
  {
   "cell_type": "markdown",
   "metadata": {
    "collapsed": true
   },
   "source": [
    "One of the structures of the last population looks better than others:\n",
    "![rna2](rna2.png)\n",
    "It is indeed one of the most probable structures according to other predictors that you can find online, e.g. [this web server](http://rna.urmc.rochester.edu/RNAstructureWeb/Servers/Predict1/Predict1.html)."
   ]
  },
  {
   "cell_type": "markdown",
   "metadata": {},
   "source": [
    "The last example will show that Genetic Predictor can make predictions from scratch. It makes it competitive with other more complex predictors. Its decision process is almost completely random, and it may converge to local minima, but it has very simple implementation, which makes it faster than other predictors. Let's try to predict the same sequence the Naive Predictor has earlier predicted correctly."
   ]
  },
  {
   "cell_type": "code",
   "execution_count": 30,
   "metadata": {
    "collapsed": false
   },
   "outputs": [
    {
     "name": "stdout",
     "output_type": "stream",
     "text": [
      "[\n",
      "GGCCUGAGGAGACUCAGAAGCC\n",
      "((((((((....)))))..)))\n",
      ", \n",
      "GGCCUGAGGAGACUCAGAAGCC\n",
      "((((((((....)))))..)))\n",
      ", \n",
      "GGCCUGAGGAGACUCAGAAGCC\n",
      "((((((((....)))))..)))\n",
      "]\n"
     ]
    }
   ],
   "source": [
    "predictions = []\n",
    "\n",
    "# we use the predictor 10 times and choose the best result to avoid locality\n",
    "for test in range(10):\n",
    "    predictions += p.predict(rna.Molecule(\"GGCCUGAGGAGACUCAGAAGCC\"))\n",
    "\n",
    "print(sorted(predictions, key=lambda x: x.evaluate())[-3:])"
   ]
  },
  {
   "cell_type": "markdown",
   "metadata": {},
   "source": [
    "The prediction is correct."
   ]
  },
  {
   "cell_type": "markdown",
   "metadata": {},
   "source": [
    "### MFT Predictor\n",
    "MFT Predictor is based on [this article](http://aitopics.org/sites/default/files/classic/Hunter/03-Steeg.pdf) (Steeg). The network works similarly to Hopfield networks. However, neurons can have activation level equal to any number $a_i \\in [0, 1]$, and not only binary. The activation function is given by the formula:\n",
    "\n",
    "\\begin{equation}\n",
    "a_i = \\sum_j a_j w_{ij} + f(i),\n",
    "\\end{equation}\n",
    "where\n",
    "- $a_i$ - activation of $i$-th neuron,\n",
    "- $w_{ij}$ - edge weight between neurons $i$ and $j$,\n",
    "- $f(i)$ - node weight for neuron's basepair."
   ]
  },
  {
   "cell_type": "code",
   "execution_count": 31,
   "metadata": {
    "collapsed": false
   },
   "outputs": [
    {
     "name": "stdout",
     "output_type": "stream",
     "text": [
      "GGCCUGAGGAGACUCAGAAGCC\n",
      "(((.(..(((..)))..).)))\n",
      "GGCCUGAGGAGACUCAGAAGCC\n",
      "(((.(...((...))..).)))\n",
      "GGCCUGAGGAGACUCAGAAGCC\n",
      "((.((....))...).....).\n",
      "GGCCUGAGGAGACUCAGAAGCC\n",
      "(((.(.....(...)...))))\n",
      "GGCCUGAGGAGACUCAGAAGCC\n",
      "((((((((....)))))..)))\n",
      "GGCCUGAGGAGACUCAGAAGCC\n",
      "(......(....((...).)))\n",
      "GGCCUGAGGAGACUCAGAAGCC\n",
      "((.((....)).).).(...).\n",
      "GGCCUGAGGAGACUCAGAAGCC\n",
      "(((.(...((...))..).)))\n",
      "GGCCUGAGGAGACUCAGAAGCC\n",
      "(.(....)(...(...)...))\n",
      "GGCCUGAGGAGACUCAGAAGCC\n",
      "((((((((....)))))..)))\n"
     ]
    }
   ],
   "source": [
    "p = MFTPredictor(num_epoch=100, alpha=6, beta=8, gamma=30, temperature=1/5)\n",
    "predictions = []\n",
    "for i in range(10):\n",
    "    print(p.predict(rna.Molecule(\"GGCCUGAGGAGACUCAGAAGCC\")))"
   ]
  },
  {
   "cell_type": "markdown",
   "metadata": {},
   "source": [
    "It seems that this predictor can produce good predictions, but it is dependent on many parameters that can be learnt from data. However, the training method is not well implemented yet."
   ]
  },
  {
   "cell_type": "code",
   "execution_count": null,
   "metadata": {
    "collapsed": true
   },
   "outputs": [],
   "source": []
  }
 ],
 "metadata": {
  "anaconda-cloud": {},
  "kernelspec": {
   "display_name": "Python [Root]",
   "language": "python",
   "name": "Python [Root]"
  },
  "language_info": {
   "codemirror_mode": {
    "name": "ipython",
    "version": 3
   },
   "file_extension": ".py",
   "mimetype": "text/x-python",
   "name": "python",
   "nbconvert_exporter": "python",
   "pygments_lexer": "ipython3",
   "version": "3.5.2"
  }
 },
 "nbformat": 4,
 "nbformat_minor": 0
}
